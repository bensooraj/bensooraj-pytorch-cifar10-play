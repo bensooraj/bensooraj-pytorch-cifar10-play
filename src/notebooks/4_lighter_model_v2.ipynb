{
 "cells": [
  {
   "cell_type": "code",
   "execution_count": 1,
   "id": "1f1626e3-11b4-49fe-b44c-90225ff9eb99",
   "metadata": {},
   "outputs": [
    {
     "name": "stdout",
     "output_type": "stream",
     "text": [
      "Adding /Users/bensoorajmohan/Development/ai-playground/pytorch-mnist-play/src to system paths\n"
     ]
    }
   ],
   "source": [
    "%load_ext autoreload\n",
    "%autoreload 2\n",
    "import os\n",
    "import sys\n",
    "\n",
    "project_module_path = os.path.abspath(os.path.join('../'))\n",
    "if project_module_path not in sys.path:\n",
    "    print(f'Adding {project_module_path} to system paths')\n",
    "    sys.path.append(project_module_path)\n",
    "\n",
    "# %env AWS_PROFILE=development"
   ]
  },
  {
   "cell_type": "markdown",
   "id": "e8d38aff-b896-44c2-884a-bd3462d887cc",
   "metadata": {},
   "source": [
    "# Lighter Model v2"
   ]
  },
  {
   "cell_type": "markdown",
   "id": "4ab29b41-8b3a-4e84-8853-af97cc385f6e",
   "metadata": {},
   "source": [
    "## Target\n",
    "- Aggressively try to reduce the parameters\n",
    "## Result\n",
    "- Parameters: 7,316\n",
    "- Accuracy:\n",
    "| Accuracy | Best | Final |\n",
    "| --- | --- | --- |\n",
    "| Train | 98.83 | 98.83\n",
    "| Test | 99.39 | 99.26\n",
    "## Analysis\n",
    "- Model is light\n",
    "- No overfitting (train acc < test acc)\n",
    "- Accuracy has tanked\n"
   ]
  },
  {
   "cell_type": "markdown",
   "id": "128e24f0-a01c-4832-a15f-babf45c07171",
   "metadata": {},
   "source": [
    "## Import all the libraries"
   ]
  },
  {
   "cell_type": "code",
   "execution_count": 2,
   "id": "58cb3d88-a205-4a4d-a420-46e718590398",
   "metadata": {},
   "outputs": [
    {
     "name": "stdout",
     "output_type": "stream",
     "text": [
      "Requirement already satisfied: torchsummary in /Library/Frameworks/Python.framework/Versions/3.11/lib/python3.11/site-packages (1.5.1)\n"
     ]
    }
   ],
   "source": [
    "from __future__ import print_function\n",
    "import torch\n",
    "import torch.nn as nn\n",
    "import torch.nn.functional as F\n",
    "import torch.optim as optim\n",
    "import torchvision\n",
    "from tqdm import tqdm\n",
    "from torchvision import datasets, transforms\n",
    "from torch.utils.tensorboard import SummaryWriter\n",
    "\n",
    "!pip install torchsummary\n",
    "from torchsummary import summary"
   ]
  },
  {
   "cell_type": "code",
   "execution_count": 3,
   "id": "b33c8053-c5a5-4a8f-8525-d710444c3f29",
   "metadata": {},
   "outputs": [
    {
     "name": "stderr",
     "output_type": "stream",
     "text": [
      "INFO:root:logging configured\n"
     ]
    }
   ],
   "source": [
    "import logging\n",
    "\n",
    "logger = logging.getLogger()\n",
    "logger.setLevel(logging.DEBUG)\n",
    "\n",
    "logging.info(\"logging configured\")  # calling the root logger"
   ]
  },
  {
   "cell_type": "markdown",
   "id": "8bee8caf-ab88-4cb2-8fcb-6e188455ba29",
   "metadata": {},
   "source": [
    "## Configure device"
   ]
  },
  {
   "cell_type": "code",
   "execution_count": 4,
   "id": "cbf2114d-d567-41ca-9255-5308465af4db",
   "metadata": {},
   "outputs": [],
   "source": [
    "use_cuda = torch.cuda.is_available()\n",
    "use_mps = torch.backends.mps.is_available()\n",
    "\n",
    "device: torch.device = None\n",
    "if use_cuda:\n",
    "    device = torch.device(\"cuda\")\n",
    "elif use_mps:\n",
    "    device = torch.device(\"mps\")\n",
    "else:\n",
    "    device = torch.device(\"cpu\")\n",
    "\n",
    "assert device is not None, \"device must not be None\"\n",
    "assert isinstance(device, torch.device), \"device must be an instance of torch.device\""
   ]
  },
  {
   "cell_type": "markdown",
   "id": "c2944927-0043-44e8-9b9a-8b3ee56824ef",
   "metadata": {},
   "source": [
    "## Download the dataset and configure loaders"
   ]
  },
  {
   "cell_type": "code",
   "execution_count": 5,
   "id": "6203d50a-5f69-4c9a-a838-01df0e231b64",
   "metadata": {},
   "outputs": [],
   "source": [
    "torch.manual_seed(1)\n",
    "BATCH_SIZE = 64\n",
    "\n",
    "# Transforms\n",
    "train_transforms = transforms.Compose([\n",
    "    transforms.RandomRotation((-7.0, 7.0), fill=(1,)),\n",
    "    transforms.ToTensor(),\n",
    "    transforms.Normalize((0.1307,), (0.3081,))\n",
    "])\n",
    "test_transforms = transforms.Compose([\n",
    "    transforms.ToTensor(),\n",
    "    transforms.Normalize((0.1307,), (0.3081,))\n",
    "])\n",
    "\n",
    "train = datasets.MNIST('../../data', train=True, download=True, transform=train_transforms)\n",
    "test = datasets.MNIST('../../data', train=False, download=True, transform=test_transforms)\n",
    "\n",
    "dataloader_args = dict(shuffle=True, batch_size=BATCH_SIZE, num_workers=2, pin_memory=True) if (use_cuda or use_mps) else dict(shuffle=True, batch_size=64)\n",
    "\n",
    "# train dataloader\n",
    "train_loader = torch.utils.data.DataLoader(train, **dataloader_args)\n",
    "\n",
    "# test dataloader\n",
    "test_loader = torch.utils.data.DataLoader(test, **dataloader_args)\n"
   ]
  },
  {
   "cell_type": "markdown",
   "id": "8a4c562c-6d13-45b5-8ee8-53f7924393a0",
   "metadata": {},
   "source": [
    "## Model summary"
   ]
  },
  {
   "cell_type": "code",
   "execution_count": 6,
   "id": "9c690c38-6891-43bc-aedc-214af5aed925",
   "metadata": {},
   "outputs": [
    {
     "name": "stdout",
     "output_type": "stream",
     "text": [
      "----------------------------------------------------------------\n",
      "        Layer (type)               Output Shape         Param #\n",
      "================================================================\n",
      "            Conv2d-1           [-1, 16, 28, 28]             160\n",
      "              ReLU-2           [-1, 16, 28, 28]               0\n",
      "            Conv2d-3           [-1, 16, 28, 28]           2,320\n",
      "              ReLU-4           [-1, 16, 28, 28]               0\n",
      "       BatchNorm2d-5           [-1, 16, 28, 28]              32\n",
      "         MaxPool2d-6           [-1, 16, 14, 14]               0\n",
      "            Conv2d-7           [-1, 10, 14, 14]           1,450\n",
      "              ReLU-8           [-1, 10, 14, 14]               0\n",
      "       BatchNorm2d-9           [-1, 10, 14, 14]              20\n",
      "          Dropout-10           [-1, 10, 14, 14]               0\n",
      "           Conv2d-11           [-1, 10, 14, 14]             910\n",
      "             ReLU-12           [-1, 10, 14, 14]               0\n",
      "      BatchNorm2d-13           [-1, 10, 14, 14]              20\n",
      "        MaxPool2d-14             [-1, 10, 7, 7]               0\n",
      "           Conv2d-15              [-1, 8, 5, 5]             728\n",
      "             ReLU-16              [-1, 8, 5, 5]               0\n",
      "      BatchNorm2d-17              [-1, 8, 5, 5]              16\n",
      "          Dropout-18              [-1, 8, 5, 5]               0\n",
      "           Conv2d-19             [-1, 10, 3, 3]             730\n",
      "             ReLU-20             [-1, 10, 3, 3]               0\n",
      "      BatchNorm2d-21             [-1, 10, 3, 3]              20\n",
      "          Dropout-22             [-1, 10, 3, 3]               0\n",
      "           Conv2d-23             [-1, 10, 1, 1]             910\n",
      "             ReLU-24             [-1, 10, 1, 1]               0\n",
      "        AvgPool2d-25             [-1, 10, 1, 1]               0\n",
      "================================================================\n",
      "Total params: 7,316\n",
      "Trainable params: 7,316\n",
      "Non-trainable params: 0\n",
      "----------------------------------------------------------------\n",
      "Input size (MB): 0.00\n",
      "Forward/backward pass size (MB): 0.62\n",
      "Params size (MB): 0.03\n",
      "Estimated Total Size (MB): 0.65\n",
      "----------------------------------------------------------------\n"
     ]
    }
   ],
   "source": [
    "from models import ModelV3\n",
    "summary(ModelV3(), input_size=(1, 28, 28))"
   ]
  },
  {
   "cell_type": "markdown",
   "id": "b6812aa9-514c-4898-a345-f2da2b2d0c3b",
   "metadata": {},
   "source": [
    "## Train and evaluate the model"
   ]
  },
  {
   "cell_type": "markdown",
   "id": "46205ee9-cc3d-4785-a240-acbf2bfb8b52",
   "metadata": {},
   "source": [
    "### Configuration"
   ]
  },
  {
   "cell_type": "code",
   "execution_count": 7,
   "id": "8e3bcf4e-7383-4aae-8c1c-dc0d11c5c9cd",
   "metadata": {},
   "outputs": [
    {
     "name": "stdout",
     "output_type": "stream",
     "text": [
      "tConfig: batch_size=128 epochs=15 lr=0.01 enable_lr_scheduler=False momentum=0.9 seed=1 log_dir='logs/mnist' summaryWriter=<torch.utils.tensorboard.writer.SummaryWriter object at 0x1111ec090>\n"
     ]
    }
   ],
   "source": [
    "from pytorch_mnist_play import Config, Trainer\n",
    "\n",
    "summaryWriter=SummaryWriter(\"../../logs/mnist\")\n",
    "tConfig = Config(\n",
    "    summaryWriter=summaryWriter,\n",
    "    epochs=15,\n",
    "    # enable_lr_scheduler=True,\n",
    ")\n",
    "print(f\"tConfig: {tConfig}\")\n",
    "\n",
    "modelV3 = ModelV3().to(device)"
   ]
  },
  {
   "cell_type": "markdown",
   "id": "53da66cb-91c9-4672-8ccd-a083bd85b51e",
   "metadata": {},
   "source": [
    "### Start the loop"
   ]
  },
  {
   "cell_type": "code",
   "execution_count": 8,
   "id": "2e6f5e13-bf71-49cf-99bd-3e5895abceb3",
   "metadata": {},
   "outputs": [
    {
     "name": "stderr",
     "output_type": "stream",
     "text": [
      "Epoch 1: 100%|██████████████████████████████████████████████████████████████████████████████████████████████████████████████████████████████████████████████████████████████████████████| 938/938 [00:17<00:00, 54.38it/s, batch_id=937, loss=0.1525]\n",
      "INFO:pytorch_mnist_play.trainer:[TRAIN ModelV3] Epoch 01 - Accuracy: 56259/60000 (93.77%)\n",
      "INFO:pytorch_mnist_play.trainer:[TEST ModelV3] Epoch 01 - Loss: 0.0483, Accuracy: 9835/10000 (98.35%)\n",
      "Epoch 2: 100%|██████████████████████████████████████████████████████████████████████████████████████████████████████████████████████████████████████████████████████████████████████████| 938/938 [00:11<00:00, 81.11it/s, batch_id=937, loss=0.0211]\n",
      "INFO:pytorch_mnist_play.trainer:[TRAIN ModelV3] Epoch 02 - Accuracy: 58504/60000 (97.51%)\n",
      "INFO:pytorch_mnist_play.trainer:[TEST ModelV3] Epoch 02 - Loss: 0.0411, Accuracy: 9864/10000 (98.64%)\n",
      "Epoch 3: 100%|██████████████████████████████████████████████████████████████████████████████████████████████████████████████████████████████████████████████████████████████████████████| 938/938 [00:11<00:00, 83.57it/s, batch_id=937, loss=0.0130]\n",
      "INFO:pytorch_mnist_play.trainer:[TRAIN ModelV3] Epoch 03 - Accuracy: 58767/60000 (97.94%)\n",
      "INFO:pytorch_mnist_play.trainer:[TEST ModelV3] Epoch 03 - Loss: 0.0289, Accuracy: 9908/10000 (99.08%)\n",
      "Epoch 4: 100%|██████████████████████████████████████████████████████████████████████████████████████████████████████████████████████████████████████████████████████████████████████████| 938/938 [00:10<00:00, 89.51it/s, batch_id=937, loss=0.0426]\n",
      "INFO:pytorch_mnist_play.trainer:[TRAIN ModelV3] Epoch 04 - Accuracy: 58880/60000 (98.13%)\n",
      "INFO:pytorch_mnist_play.trainer:[TEST ModelV3] Epoch 04 - Loss: 0.0293, Accuracy: 9910/10000 (99.10%)\n",
      "Epoch 5: 100%|██████████████████████████████████████████████████████████████████████████████████████████████████████████████████████████████████████████████████████████████████████████| 938/938 [00:10<00:00, 89.19it/s, batch_id=937, loss=0.0635]\n",
      "INFO:pytorch_mnist_play.trainer:[TRAIN ModelV3] Epoch 05 - Accuracy: 59016/60000 (98.36%)\n",
      "INFO:pytorch_mnist_play.trainer:[TEST ModelV3] Epoch 05 - Loss: 0.0281, Accuracy: 9911/10000 (99.11%)\n",
      "Epoch 6: 100%|██████████████████████████████████████████████████████████████████████████████████████████████████████████████████████████████████████████████████████████████████████████| 938/938 [00:10<00:00, 88.38it/s, batch_id=937, loss=0.1887]\n",
      "INFO:pytorch_mnist_play.trainer:[TRAIN ModelV3] Epoch 06 - Accuracy: 59032/60000 (98.39%)\n",
      "INFO:pytorch_mnist_play.trainer:[TEST ModelV3] Epoch 06 - Loss: 0.0243, Accuracy: 9920/10000 (99.20%)\n",
      "Epoch 7: 100%|██████████████████████████████████████████████████████████████████████████████████████████████████████████████████████████████████████████████████████████████████████████| 938/938 [00:10<00:00, 87.52it/s, batch_id=937, loss=0.0159]\n",
      "INFO:pytorch_mnist_play.trainer:[TRAIN ModelV3] Epoch 07 - Accuracy: 59074/60000 (98.46%)\n",
      "INFO:pytorch_mnist_play.trainer:[TEST ModelV3] Epoch 07 - Loss: 0.0209, Accuracy: 9939/10000 (99.39%)\n",
      "Epoch 8: 100%|██████████████████████████████████████████████████████████████████████████████████████████████████████████████████████████████████████████████████████████████████████████| 938/938 [00:10<00:00, 86.45it/s, batch_id=937, loss=0.0039]\n",
      "INFO:pytorch_mnist_play.trainer:[TRAIN ModelV3] Epoch 08 - Accuracy: 59160/60000 (98.60%)\n",
      "INFO:pytorch_mnist_play.trainer:[TEST ModelV3] Epoch 08 - Loss: 0.0260, Accuracy: 9915/10000 (99.15%)\n",
      "Epoch 9: 100%|██████████████████████████████████████████████████████████████████████████████████████████████████████████████████████████████████████████████████████████████████████████| 938/938 [00:11<00:00, 78.80it/s, batch_id=937, loss=0.1054]\n",
      "INFO:pytorch_mnist_play.trainer:[TRAIN ModelV3] Epoch 09 - Accuracy: 59183/60000 (98.64%)\n",
      "INFO:pytorch_mnist_play.trainer:[TEST ModelV3] Epoch 09 - Loss: 0.0249, Accuracy: 9922/10000 (99.22%)\n",
      "Epoch 10: 100%|█████████████████████████████████████████████████████████████████████████████████████████████████████████████████████████████████████████████████████████████████████████| 938/938 [00:11<00:00, 78.77it/s, batch_id=937, loss=0.0052]\n",
      "INFO:pytorch_mnist_play.trainer:[TRAIN ModelV3] Epoch 10 - Accuracy: 59173/60000 (98.62%)\n",
      "INFO:pytorch_mnist_play.trainer:[TEST ModelV3] Epoch 10 - Loss: 0.0256, Accuracy: 9918/10000 (99.18%)\n",
      "Epoch 11: 100%|█████████████████████████████████████████████████████████████████████████████████████████████████████████████████████████████████████████████████████████████████████████| 938/938 [00:11<00:00, 78.72it/s, batch_id=937, loss=0.0256]\n",
      "INFO:pytorch_mnist_play.trainer:[TRAIN ModelV3] Epoch 11 - Accuracy: 59233/60000 (98.72%)\n",
      "INFO:pytorch_mnist_play.trainer:[TEST ModelV3] Epoch 11 - Loss: 0.0231, Accuracy: 9923/10000 (99.23%)\n",
      "Epoch 12: 100%|█████████████████████████████████████████████████████████████████████████████████████████████████████████████████████████████████████████████████████████████████████████| 938/938 [00:11<00:00, 78.74it/s, batch_id=937, loss=0.0541]\n",
      "INFO:pytorch_mnist_play.trainer:[TRAIN ModelV3] Epoch 12 - Accuracy: 59257/60000 (98.76%)\n",
      "INFO:pytorch_mnist_play.trainer:[TEST ModelV3] Epoch 12 - Loss: 0.0237, Accuracy: 9923/10000 (99.23%)\n",
      "Epoch 13: 100%|█████████████████████████████████████████████████████████████████████████████████████████████████████████████████████████████████████████████████████████████████████████| 938/938 [00:11<00:00, 78.99it/s, batch_id=937, loss=0.0453]\n",
      "INFO:pytorch_mnist_play.trainer:[TRAIN ModelV3] Epoch 13 - Accuracy: 59242/60000 (98.74%)\n",
      "INFO:pytorch_mnist_play.trainer:[TEST ModelV3] Epoch 13 - Loss: 0.0202, Accuracy: 9934/10000 (99.34%)\n",
      "Epoch 14: 100%|█████████████████████████████████████████████████████████████████████████████████████████████████████████████████████████████████████████████████████████████████████████| 938/938 [00:11<00:00, 79.33it/s, batch_id=937, loss=0.0455]\n",
      "INFO:pytorch_mnist_play.trainer:[TRAIN ModelV3] Epoch 14 - Accuracy: 59297/60000 (98.83%)\n",
      "INFO:pytorch_mnist_play.trainer:[TEST ModelV3] Epoch 14 - Loss: 0.0223, Accuracy: 9927/10000 (99.27%)\n",
      "Epoch 15: 100%|█████████████████████████████████████████████████████████████████████████████████████████████████████████████████████████████████████████████████████████████████████████| 938/938 [00:12<00:00, 78.04it/s, batch_id=937, loss=0.0112]\n",
      "INFO:pytorch_mnist_play.trainer:[TRAIN ModelV3] Epoch 15 - Accuracy: 59300/60000 (98.83%)\n",
      "INFO:pytorch_mnist_play.trainer:[TEST ModelV3] Epoch 15 - Loss: 0.0227, Accuracy: 9926/10000 (99.26%)\n"
     ]
    }
   ],
   "source": [
    "trainer = Trainer(tConfig)\n",
    "trainer.fit(modelV3, device, train_loader, test_loader, modelV3.name())"
   ]
  }
 ],
 "metadata": {
  "kernelspec": {
   "display_name": "Python 3 (ipykernel)",
   "language": "python",
   "name": "python3"
  },
  "language_info": {
   "codemirror_mode": {
    "name": "ipython",
    "version": 3
   },
   "file_extension": ".py",
   "mimetype": "text/x-python",
   "name": "python",
   "nbconvert_exporter": "python",
   "pygments_lexer": "ipython3",
   "version": "3.11.7"
  }
 },
 "nbformat": 4,
 "nbformat_minor": 5
}
