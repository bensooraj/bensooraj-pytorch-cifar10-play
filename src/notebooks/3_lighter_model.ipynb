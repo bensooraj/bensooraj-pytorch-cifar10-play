{
 "cells": [
  {
   "cell_type": "code",
   "execution_count": 1,
   "id": "1f1626e3-11b4-49fe-b44c-90225ff9eb99",
   "metadata": {},
   "outputs": [
    {
     "name": "stdout",
     "output_type": "stream",
     "text": [
      "Adding /Users/bensoorajmohan/Development/ai-playground/pytorch-mnist-play/src to system paths\n"
     ]
    }
   ],
   "source": [
    "%load_ext autoreload\n",
    "%autoreload 2\n",
    "import os\n",
    "import sys\n",
    "\n",
    "project_module_path = os.path.abspath(os.path.join('../'))\n",
    "if project_module_path not in sys.path:\n",
    "    print(f'Adding {project_module_path} to system paths')\n",
    "    sys.path.append(project_module_path)\n",
    "\n",
    "# %env AWS_PROFILE=development"
   ]
  },
  {
   "cell_type": "markdown",
   "id": "e8d38aff-b896-44c2-884a-bd3462d887cc",
   "metadata": {},
   "source": [
    "# Lighter Model"
   ]
  },
  {
   "cell_type": "markdown",
   "id": "4ab29b41-8b3a-4e84-8853-af97cc385f6e",
   "metadata": {},
   "source": [
    "## Target\n",
    "- Aggressively try to reduce the parameters\n",
    "## Result\n",
    "- Parameters: 7,538\n",
    "- Accuracy:\n",
    "| Accuracy | Best | Final |\n",
    "| --- | --- | --- |\n",
    "| Train | 99.28 | 99.28\n",
    "| Test | 99.23 | 99.21\n",
    "## Analysis\n",
    "- Model is light enough\n",
    "- Moderately overfitting (train acc > test acc)\n",
    "- Accuracy has tanked\n"
   ]
  },
  {
   "cell_type": "markdown",
   "id": "128e24f0-a01c-4832-a15f-babf45c07171",
   "metadata": {},
   "source": [
    "## Import all the libraries"
   ]
  },
  {
   "cell_type": "code",
   "execution_count": 2,
   "id": "58cb3d88-a205-4a4d-a420-46e718590398",
   "metadata": {},
   "outputs": [
    {
     "name": "stdout",
     "output_type": "stream",
     "text": [
      "Requirement already satisfied: torchsummary in /Library/Frameworks/Python.framework/Versions/3.11/lib/python3.11/site-packages (1.5.1)\n"
     ]
    }
   ],
   "source": [
    "from __future__ import print_function\n",
    "import torch\n",
    "import torch.nn as nn\n",
    "import torch.nn.functional as F\n",
    "import torch.optim as optim\n",
    "import torchvision\n",
    "from tqdm import tqdm\n",
    "from torchvision import datasets, transforms\n",
    "from torch.utils.tensorboard import SummaryWriter\n",
    "\n",
    "!pip install torchsummary\n",
    "from torchsummary import summary"
   ]
  },
  {
   "cell_type": "code",
   "execution_count": 3,
   "id": "b33c8053-c5a5-4a8f-8525-d710444c3f29",
   "metadata": {},
   "outputs": [
    {
     "name": "stderr",
     "output_type": "stream",
     "text": [
      "INFO:root:logging configured\n"
     ]
    }
   ],
   "source": [
    "import logging\n",
    "\n",
    "logger = logging.getLogger()\n",
    "logger.setLevel(logging.DEBUG)\n",
    "\n",
    "logging.info(\"logging configured\")  # calling the root logger"
   ]
  },
  {
   "cell_type": "markdown",
   "id": "8bee8caf-ab88-4cb2-8fcb-6e188455ba29",
   "metadata": {},
   "source": [
    "## Configure device"
   ]
  },
  {
   "cell_type": "code",
   "execution_count": 4,
   "id": "cbf2114d-d567-41ca-9255-5308465af4db",
   "metadata": {},
   "outputs": [],
   "source": [
    "use_cuda = torch.cuda.is_available()\n",
    "use_mps = torch.backends.mps.is_available()\n",
    "\n",
    "device: torch.device = None\n",
    "if use_cuda:\n",
    "    device = torch.device(\"cuda\")\n",
    "elif use_mps:\n",
    "    device = torch.device(\"mps\")\n",
    "else:\n",
    "    device = torch.device(\"cpu\")\n",
    "\n",
    "assert device is not None, \"device must not be None\"\n",
    "assert isinstance(device, torch.device), \"device must be an instance of torch.device\""
   ]
  },
  {
   "cell_type": "markdown",
   "id": "c2944927-0043-44e8-9b9a-8b3ee56824ef",
   "metadata": {},
   "source": [
    "## Download the dataset and configure loaders"
   ]
  },
  {
   "cell_type": "code",
   "execution_count": 5,
   "id": "6203d50a-5f69-4c9a-a838-01df0e231b64",
   "metadata": {},
   "outputs": [],
   "source": [
    "torch.manual_seed(1)\n",
    "BATCH_SIZE = 128\n",
    "\n",
    "# Transforms\n",
    "train_transforms = transforms.Compose([\n",
    "    transforms.ToTensor(),\n",
    "    transforms.Normalize((0.1307,), (0.3081,))\n",
    "])\n",
    "test_transforms = transforms.Compose([\n",
    "    transforms.ToTensor(),\n",
    "    transforms.Normalize((0.1307,), (0.3081,))\n",
    "])\n",
    "\n",
    "train = datasets.MNIST('../../data', train=True, download=True, transform=train_transforms)\n",
    "test = datasets.MNIST('../../data', train=False, download=True, transform=test_transforms)\n",
    "\n",
    "dataloader_args = dict(shuffle=True, batch_size=BATCH_SIZE, num_workers=2, pin_memory=True) if (use_cuda or use_mps) else dict(shuffle=True, batch_size=64)\n",
    "\n",
    "# train dataloader\n",
    "train_loader = torch.utils.data.DataLoader(train, **dataloader_args)\n",
    "\n",
    "# test dataloader\n",
    "test_loader = torch.utils.data.DataLoader(test, **dataloader_args)\n"
   ]
  },
  {
   "cell_type": "markdown",
   "id": "8a4c562c-6d13-45b5-8ee8-53f7924393a0",
   "metadata": {},
   "source": [
    "## Model summary"
   ]
  },
  {
   "cell_type": "code",
   "execution_count": 6,
   "id": "9c690c38-6891-43bc-aedc-214af5aed925",
   "metadata": {},
   "outputs": [
    {
     "name": "stdout",
     "output_type": "stream",
     "text": [
      "----------------------------------------------------------------\n",
      "        Layer (type)               Output Shape         Param #\n",
      "================================================================\n",
      "            Conv2d-1           [-1, 16, 28, 28]             160\n",
      "              ReLU-2           [-1, 16, 28, 28]               0\n",
      "            Conv2d-3           [-1, 16, 28, 28]           2,320\n",
      "              ReLU-4           [-1, 16, 28, 28]               0\n",
      "       BatchNorm2d-5           [-1, 16, 28, 28]              32\n",
      "         MaxPool2d-6           [-1, 16, 14, 14]               0\n",
      "            Conv2d-7            [-1, 8, 14, 14]           1,160\n",
      "              ReLU-8            [-1, 8, 14, 14]               0\n",
      "       BatchNorm2d-9            [-1, 8, 14, 14]              16\n",
      "          Dropout-10            [-1, 8, 14, 14]               0\n",
      "           Conv2d-11            [-1, 8, 14, 14]             584\n",
      "             ReLU-12            [-1, 8, 14, 14]               0\n",
      "      BatchNorm2d-13            [-1, 8, 14, 14]              16\n",
      "        MaxPool2d-14              [-1, 8, 7, 7]               0\n",
      "           Conv2d-15              [-1, 8, 5, 5]             584\n",
      "             ReLU-16              [-1, 8, 5, 5]               0\n",
      "      BatchNorm2d-17              [-1, 8, 5, 5]              16\n",
      "           Conv2d-18             [-1, 16, 3, 3]           1,168\n",
      "             ReLU-19             [-1, 16, 3, 3]               0\n",
      "      BatchNorm2d-20             [-1, 16, 3, 3]              32\n",
      "           Conv2d-21             [-1, 10, 1, 1]           1,450\n",
      "             ReLU-22             [-1, 10, 1, 1]               0\n",
      "        AvgPool2d-23             [-1, 10, 1, 1]               0\n",
      "================================================================\n",
      "Total params: 7,538\n",
      "Trainable params: 7,538\n",
      "Non-trainable params: 0\n",
      "----------------------------------------------------------------\n",
      "Input size (MB): 0.00\n",
      "Forward/backward pass size (MB): 0.60\n",
      "Params size (MB): 0.03\n",
      "Estimated Total Size (MB): 0.63\n",
      "----------------------------------------------------------------\n"
     ]
    }
   ],
   "source": [
    "from models import ModelV2\n",
    "summary(ModelV2(), input_size=(1, 28, 28))"
   ]
  },
  {
   "cell_type": "markdown",
   "id": "b6812aa9-514c-4898-a345-f2da2b2d0c3b",
   "metadata": {},
   "source": [
    "## Train and evaluate the model"
   ]
  },
  {
   "cell_type": "markdown",
   "id": "46205ee9-cc3d-4785-a240-acbf2bfb8b52",
   "metadata": {},
   "source": [
    "### Configuration"
   ]
  },
  {
   "cell_type": "code",
   "execution_count": 9,
   "id": "8e3bcf4e-7383-4aae-8c1c-dc0d11c5c9cd",
   "metadata": {},
   "outputs": [
    {
     "name": "stdout",
     "output_type": "stream",
     "text": [
      "tConfig: batch_size=128 epochs=15 lr=0.01 momentum=0.9 seed=1 log_dir='logs/mnist' summaryWriter=<torch.utils.tensorboard.writer.SummaryWriter object at 0x16a848d90>\n"
     ]
    }
   ],
   "source": [
    "from pytorch_mnist_play import Config, Trainer\n",
    "\n",
    "summaryWriter=SummaryWriter(\"../../logs/mnist\")\n",
    "tConfig = Config(\n",
    "    summaryWriter=summaryWriter,\n",
    "    epochs=15\n",
    ")\n",
    "print(f\"tConfig: {tConfig}\")\n",
    "\n",
    "modelV2 = ModelV2().to(device)"
   ]
  },
  {
   "cell_type": "markdown",
   "id": "53da66cb-91c9-4672-8ccd-a083bd85b51e",
   "metadata": {},
   "source": [
    "### Start the loop"
   ]
  },
  {
   "cell_type": "code",
   "execution_count": 10,
   "id": "2e6f5e13-bf71-49cf-99bd-3e5895abceb3",
   "metadata": {},
   "outputs": [
    {
     "name": "stderr",
     "output_type": "stream",
     "text": [
      "Epoch 1: 100%|██████████████████████████████████████████████████████████████████████████████████████████████████████████████████████████████████████████████████████████████████████████| 469/469 [00:06<00:00, 71.27it/s, batch_id=468, loss=0.0240]\n",
      "INFO:pytorch_mnist_play.trainer:[TRAIN ModelV2] Epoch 01 - Accuracy: 55993/60000 (93.32%)\n",
      "INFO:pytorch_mnist_play.trainer:[TEST ModelV2] Epoch 01 - Loss: 0.0563, Accuracy: 9825/10000 (98.25%)\n",
      "Epoch 2: 100%|██████████████████████████████████████████████████████████████████████████████████████████████████████████████████████████████████████████████████████████████████████████| 469/469 [00:06<00:00, 73.52it/s, batch_id=468, loss=0.0129]\n",
      "INFO:pytorch_mnist_play.trainer:[TRAIN ModelV2] Epoch 02 - Accuracy: 58879/60000 (98.13%)\n",
      "INFO:pytorch_mnist_play.trainer:[TEST ModelV2] Epoch 02 - Loss: 0.0431, Accuracy: 9865/10000 (98.65%)\n",
      "Epoch 3: 100%|██████████████████████████████████████████████████████████████████████████████████████████████████████████████████████████████████████████████████████████████████████████| 469/469 [00:05<00:00, 82.52it/s, batch_id=468, loss=0.0705]\n",
      "INFO:pytorch_mnist_play.trainer:[TRAIN ModelV2] Epoch 03 - Accuracy: 59061/60000 (98.44%)\n",
      "INFO:pytorch_mnist_play.trainer:[TEST ModelV2] Epoch 03 - Loss: 0.0405, Accuracy: 9883/10000 (98.83%)\n",
      "Epoch 4: 100%|██████████████████████████████████████████████████████████████████████████████████████████████████████████████████████████████████████████████████████████████████████████| 469/469 [00:05<00:00, 81.20it/s, batch_id=468, loss=0.0180]\n",
      "INFO:pytorch_mnist_play.trainer:[TRAIN ModelV2] Epoch 04 - Accuracy: 59178/60000 (98.63%)\n",
      "INFO:pytorch_mnist_play.trainer:[TEST ModelV2] Epoch 04 - Loss: 0.0337, Accuracy: 9894/10000 (98.94%)\n",
      "Epoch 5: 100%|██████████████████████████████████████████████████████████████████████████████████████████████████████████████████████████████████████████████████████████████████████████| 469/469 [00:05<00:00, 81.43it/s, batch_id=468, loss=0.0368]\n",
      "INFO:pytorch_mnist_play.trainer:[TRAIN ModelV2] Epoch 05 - Accuracy: 59272/60000 (98.79%)\n",
      "INFO:pytorch_mnist_play.trainer:[TEST ModelV2] Epoch 05 - Loss: 0.0370, Accuracy: 9878/10000 (98.78%)\n",
      "Epoch 6: 100%|██████████████████████████████████████████████████████████████████████████████████████████████████████████████████████████████████████████████████████████████████████████| 469/469 [00:05<00:00, 82.76it/s, batch_id=468, loss=0.0163]\n",
      "INFO:pytorch_mnist_play.trainer:[TRAIN ModelV2] Epoch 06 - Accuracy: 59346/60000 (98.91%)\n",
      "INFO:pytorch_mnist_play.trainer:[TEST ModelV2] Epoch 06 - Loss: 0.0284, Accuracy: 9906/10000 (99.06%)\n",
      "Epoch 7: 100%|██████████████████████████████████████████████████████████████████████████████████████████████████████████████████████████████████████████████████████████████████████████| 469/469 [00:05<00:00, 80.28it/s, batch_id=468, loss=0.0126]\n",
      "INFO:pytorch_mnist_play.trainer:[TRAIN ModelV2] Epoch 07 - Accuracy: 59367/60000 (98.94%)\n",
      "INFO:pytorch_mnist_play.trainer:[TEST ModelV2] Epoch 07 - Loss: 0.0300, Accuracy: 9911/10000 (99.11%)\n",
      "Epoch 8: 100%|██████████████████████████████████████████████████████████████████████████████████████████████████████████████████████████████████████████████████████████████████████████| 469/469 [00:06<00:00, 77.25it/s, batch_id=468, loss=0.0324]\n",
      "INFO:pytorch_mnist_play.trainer:[TRAIN ModelV2] Epoch 08 - Accuracy: 59418/60000 (99.03%)\n",
      "INFO:pytorch_mnist_play.trainer:[TEST ModelV2] Epoch 08 - Loss: 0.0274, Accuracy: 9906/10000 (99.06%)\n",
      "Epoch 9: 100%|██████████████████████████████████████████████████████████████████████████████████████████████████████████████████████████████████████████████████████████████████████████| 469/469 [00:05<00:00, 79.80it/s, batch_id=468, loss=0.0473]\n",
      "INFO:pytorch_mnist_play.trainer:[TRAIN ModelV2] Epoch 09 - Accuracy: 59401/60000 (99.00%)\n",
      "INFO:pytorch_mnist_play.trainer:[TEST ModelV2] Epoch 09 - Loss: 0.0263, Accuracy: 9908/10000 (99.08%)\n",
      "Epoch 10: 100%|█████████████████████████████████████████████████████████████████████████████████████████████████████████████████████████████████████████████████████████████████████████| 469/469 [00:05<00:00, 83.28it/s, batch_id=468, loss=0.0414]\n",
      "INFO:pytorch_mnist_play.trainer:[TRAIN ModelV2] Epoch 10 - Accuracy: 59477/60000 (99.13%)\n",
      "INFO:pytorch_mnist_play.trainer:[TEST ModelV2] Epoch 10 - Loss: 0.0275, Accuracy: 9923/10000 (99.23%)\n",
      "Epoch 11: 100%|█████████████████████████████████████████████████████████████████████████████████████████████████████████████████████████████████████████████████████████████████████████| 469/469 [00:05<00:00, 80.97it/s, batch_id=468, loss=0.0489]\n",
      "INFO:pytorch_mnist_play.trainer:[TRAIN ModelV2] Epoch 11 - Accuracy: 59502/60000 (99.17%)\n",
      "INFO:pytorch_mnist_play.trainer:[TEST ModelV2] Epoch 11 - Loss: 0.0286, Accuracy: 9910/10000 (99.10%)\n",
      "Epoch 12: 100%|█████████████████████████████████████████████████████████████████████████████████████████████████████████████████████████████████████████████████████████████████████████| 469/469 [00:06<00:00, 77.78it/s, batch_id=468, loss=0.0065]\n",
      "INFO:pytorch_mnist_play.trainer:[TRAIN ModelV2] Epoch 12 - Accuracy: 59528/60000 (99.21%)\n",
      "INFO:pytorch_mnist_play.trainer:[TEST ModelV2] Epoch 12 - Loss: 0.0296, Accuracy: 9909/10000 (99.09%)\n",
      "Epoch 13: 100%|█████████████████████████████████████████████████████████████████████████████████████████████████████████████████████████████████████████████████████████████████████████| 469/469 [00:06<00:00, 72.69it/s, batch_id=468, loss=0.0331]\n",
      "INFO:pytorch_mnist_play.trainer:[TRAIN ModelV2] Epoch 13 - Accuracy: 59522/60000 (99.20%)\n",
      "INFO:pytorch_mnist_play.trainer:[TEST ModelV2] Epoch 13 - Loss: 0.0261, Accuracy: 9918/10000 (99.18%)\n",
      "Epoch 14: 100%|█████████████████████████████████████████████████████████████████████████████████████████████████████████████████████████████████████████████████████████████████████████| 469/469 [00:06<00:00, 73.05it/s, batch_id=468, loss=0.0503]\n",
      "INFO:pytorch_mnist_play.trainer:[TRAIN ModelV2] Epoch 14 - Accuracy: 59570/60000 (99.28%)\n",
      "INFO:pytorch_mnist_play.trainer:[TEST ModelV2] Epoch 14 - Loss: 0.0264, Accuracy: 9910/10000 (99.10%)\n",
      "Epoch 15: 100%|█████████████████████████████████████████████████████████████████████████████████████████████████████████████████████████████████████████████████████████████████████████| 469/469 [00:06<00:00, 72.17it/s, batch_id=468, loss=0.0169]\n",
      "INFO:pytorch_mnist_play.trainer:[TRAIN ModelV2] Epoch 15 - Accuracy: 59570/60000 (99.28%)\n",
      "INFO:pytorch_mnist_play.trainer:[TEST ModelV2] Epoch 15 - Loss: 0.0240, Accuracy: 9921/10000 (99.21%)\n"
     ]
    }
   ],
   "source": [
    "trainer = Trainer(tConfig)\n",
    "trainer.fit(modelV2, device, train_loader, test_loader, modelV2.name())"
   ]
  }
 ],
 "metadata": {
  "kernelspec": {
   "display_name": "Python 3 (ipykernel)",
   "language": "python",
   "name": "python3"
  },
  "language_info": {
   "codemirror_mode": {
    "name": "ipython",
    "version": 3
   },
   "file_extension": ".py",
   "mimetype": "text/x-python",
   "name": "python",
   "nbconvert_exporter": "python",
   "pygments_lexer": "ipython3",
   "version": "3.11.7"
  }
 },
 "nbformat": 4,
 "nbformat_minor": 5
}
